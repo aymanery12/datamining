{
 "cells": [
  {
   "cell_type": "markdown",
   "id": "35511610",
   "metadata": {},
   "source": [
    "# Implémentation de l'algorithme k-means avec calcul de SSE"
   ]
  },
  {
   "cell_type": "markdown",
   "id": "aa178cae",
   "metadata": {},
   "source": [
    "## Question 1 : Implémentation de k-means sans `numpy` avec affichage de l'erreur SSE\n",
    "Nous allons implémenter l'algorithme **k-means** en Python sans utiliser la bibliothèque `numpy`. Nous afficherons les centroïdes, les points assignés et l'erreur quadratique (SSE) après chaque itération."
   ]
  },
  {
   "cell_type": "code",
   "execution_count": 6,
   "id": "9ffb2532",
   "metadata": {},
   "outputs": [
    {
     "name": "stdout",
     "output_type": "stream",
     "text": [
      "\n",
      "--- Test avec centroïdes initiaux [[1], [2], [18]] ---\n",
      "Iteration 1\n",
      "Centroid 1 Points [[1]]\n",
      "Centroid 2 Points [[2]]\n",
      "Centroid 3 Points [[18], [20], [31]]\n",
      "Erreur quadratique (SSE) : 173.0\n",
      "Iteration 2\n",
      "Centroid 1 Points [[1]]\n",
      "Centroid 2 Points [[2]]\n",
      "Centroid 3 Points [[18], [20], [31]]\n",
      "Erreur quadratique (SSE) : 98.0\n",
      "Fin du clustering, aucune modification des centroïdes.\n",
      "Clustering terminé.\n",
      "Centroïdes finaux : [[1.0], [2.0], [23.0]]\n",
      "Clusters finaux : [[[1]], [[2]], [[18], [20], [31]]]\n",
      "\n",
      "--- Test avec centroïdes initiaux [[18], [20], [31]] ---\n",
      "Iteration 1\n",
      "Centroid 1 Points [[1], [2], [18]]\n",
      "Centroid 2 Points [[20]]\n",
      "Centroid 3 Points [[31]]\n",
      "Erreur quadratique (SSE) : 545.0\n",
      "Iteration 2\n",
      "Centroid 1 Points [[1], [2]]\n",
      "Centroid 2 Points [[18], [20]]\n",
      "Centroid 3 Points [[31]]\n",
      "Erreur quadratique (SSE) : 65.0\n",
      "Iteration 3\n",
      "Centroid 1 Points [[1], [2]]\n",
      "Centroid 2 Points [[18], [20]]\n",
      "Centroid 3 Points [[31]]\n",
      "Erreur quadratique (SSE) : 2.5\n",
      "Fin du clustering, aucune modification des centroïdes.\n",
      "Clustering terminé.\n",
      "Centroïdes finaux : [[1.5], [19.0], [31.0]]\n",
      "Clusters finaux : [[[1], [2]], [[18], [20]], [[31]]]\n"
     ]
    }
   ],
   "source": [
    "# Fonction pour calculer la distance euclidienne entre deux points\n",
    "def euclidean_distance(point1, point2):\n",
    "    return sum((p1 - p2) ** 2 for p1, p2 in zip(point1, point2)) ** 0.5\n",
    "\n",
    "# Fonction pour calculer la SSE (Somme des erreurs quadratiques)\n",
    "def calculate_sse(clusters, centroids):\n",
    "    sse = 0\n",
    "    for i, cluster in enumerate(clusters):\n",
    "        for point in cluster:\n",
    "            sse += euclidean_distance(point, centroids[i]) ** 2\n",
    "    return sse\n",
    "\n",
    "# Implémentation de l'algorithme k-means sans max_iters\n",
    "def k_means(data, k, initial_centroids=None):\n",
    "    # Initialisation des centroïdes\n",
    "    if initial_centroids is None:\n",
    "        centroids = data[:k]  # Choix simple des k premiers points comme centroïdes\n",
    "    else:\n",
    "        centroids = initial_centroids\n",
    "\n",
    "    iteration = 0\n",
    "    while True:\n",
    "        iteration += 1\n",
    "        print(f\"Iteration {iteration}\")\n",
    "        \n",
    "        # Attribution des points aux clusters les plus proches\n",
    "        clusters = [[] for _ in range(k)]\n",
    "        for point in data:\n",
    "            distances = [euclidean_distance(point, centroid) for centroid in centroids]\n",
    "            closest_centroid_index = distances.index(min(distances))\n",
    "            clusters[closest_centroid_index].append(point)\n",
    "        \n",
    "        # Affichage des clusters et des centroïdes\n",
    "        for i, cluster in enumerate(clusters):\n",
    "            print(f\"Centroid {i + 1} Points {cluster}\")\n",
    "        \n",
    "        # Calcul des nouveaux centroïdes\n",
    "        new_centroids = []\n",
    "        for cluster in clusters:\n",
    "            if cluster:  # Assurez-vous que le cluster n'est pas vide\n",
    "                new_centroids.append([sum(coord) / len(cluster) for coord in zip(*cluster)])\n",
    "            else:  # Si le cluster est vide, gardez l'ancien centroïde\n",
    "                new_centroids.append(centroids[clusters.index(cluster)])\n",
    "        \n",
    "        # Calcul et affichage de la SSE\n",
    "        sse = calculate_sse(clusters, centroids)\n",
    "        print(f\"Erreur quadratique (SSE) : {sse}\")\n",
    "        \n",
    "        # Vérifiez si les centroïdes ne changent plus\n",
    "        if new_centroids == centroids:\n",
    "            print(\"Fin du clustering, aucune modification des centroïdes.\")\n",
    "            break\n",
    "        \n",
    "        centroids = new_centroids\n",
    "    \n",
    "    print(\"Clustering terminé.\")\n",
    "    return centroids, clusters\n",
    "\n",
    "# Jeu de données d'exemple\n",
    "data = [[1], [2], [18], [20], [31]]\n",
    "k = 3\n",
    "initial_centroids = [[1], [2], [18]]\n",
    "initial_centroids2 = [[18], [20], [31]]\n",
    "\n",
    "# Exécution de l'algorithme\n",
    "print(\"\\n--- Test avec centroïdes initiaux [[1], [2], [18]] ---\")\n",
    "final_centroids, final_clusters = k_means(data, k, initial_centroids)\n",
    "print(\"Centroïdes finaux :\", final_centroids)\n",
    "print(\"Clusters finaux :\", final_clusters)\n",
    "\n",
    "print(\"\\n--- Test avec centroïdes initiaux [[18], [20], [31]] ---\")\n",
    "final_centroids, final_clusters = k_means(data, k, initial_centroids2)\n",
    "print(\"Centroïdes finaux :\", final_centroids)\n",
    "print(\"Clusters finaux :\", final_clusters)\n",
    "\n",
    "\n",
    "\n"
   ]
  },
  {
   "cell_type": "markdown",
   "id": "552e2313",
   "metadata": {},
   "source": [
    "L'erreur quadratique (SSE) est calculée comme la somme des distances quadratiques entre chaque point et son centroïde respectif. Cette valeur permet de mesurer la qualité du clustering à chaque itération. Une valeur plus faible indique une meilleure convergence."
   ]
  },
  {
   "cell_type": "code",
   "execution_count": 13,
   "id": "a32a4dbe",
   "metadata": {},
   "outputs": [
    {
     "name": "stdout",
     "output_type": "stream",
     "text": [
      "\n",
      "--- Test avec centroïdes initiaux [[2], [6]] ---\n",
      "Iteration 1\n",
      "Centroid 1 Points [[2], [4]]\n",
      "Centroid 2 Points [[6], [12], [24], [30]]\n",
      "Erreur quadratique (SSE) : 940.0\n",
      "Iteration 2\n",
      "Centroid 1 Points [[2], [4], [6]]\n",
      "Centroid 2 Points [[12], [24], [30]]\n",
      "Erreur quadratique (SSE) : 227.0\n",
      "Iteration 3\n",
      "Centroid 1 Points [[2], [4], [6], [12]]\n",
      "Centroid 2 Points [[24], [30]]\n",
      "Erreur quadratique (SSE) : 140.0\n",
      "Iteration 4\n",
      "Centroid 1 Points [[2], [4], [6], [12]]\n",
      "Centroid 2 Points [[24], [30]]\n",
      "Erreur quadratique (SSE) : 74.0\n",
      "Fin du clustering, aucune modification des centroïdes.\n",
      "Clustering terminé.\n",
      "Centroïdes finaux : [[6.0], [27.0]]\n",
      "Clusters finaux : [[[2], [4], [6], [12]], [[24], [30]]]\n",
      "\n",
      "--- Test avec centroïdes initiaux [[12], [24]] ---\n",
      "Iteration 1\n",
      "Centroid 1 Points [[2], [4], [6], [12]]\n",
      "Centroid 2 Points [[24], [30]]\n",
      "Erreur quadratique (SSE) : 236.0\n",
      "Iteration 2\n",
      "Centroid 1 Points [[2], [4], [6], [12]]\n",
      "Centroid 2 Points [[24], [30]]\n",
      "Erreur quadratique (SSE) : 74.0\n",
      "Fin du clustering, aucune modification des centroïdes.\n",
      "Clustering terminé.\n",
      "Centroïdes finaux : [[6.0], [27.0]]\n",
      "Clusters finaux : [[[2], [4], [6], [12]], [[24], [30]]]\n"
     ]
    }
   ],
   "source": [
    "data = [[2], [4], [6], [12], [24], [30]]\n",
    "k = 2\n",
    "initial_centroids = [[2], [6]]\n",
    "initial_centroids2 = [[12], [24]]\n",
    "\n",
    "print(\"\\n--- Test avec centroïdes initiaux [[2], [6]] ---\")\n",
    "final_centroids, final_clusters = k_means(data, k, initial_centroids)\n",
    "print(\"Centroïdes finaux :\", final_centroids)\n",
    "print(\"Clusters finaux :\", final_clusters)\n",
    "\n",
    "print(\"\\n--- Test avec centroïdes initiaux [[12], [24]] ---\")\n",
    "final_centroids, final_clusters = k_means(data, k, initial_centroids2)\n",
    "print(\"Centroïdes finaux :\", final_centroids)\n",
    "print(\"Clusters finaux :\", final_clusters)\n"
   ]
  },
  {
   "cell_type": "markdown",
   "id": "a97ef1c9",
   "metadata": {},
   "source": [
    "\n",
    "---\n",
    "\n",
    "### **1. Test avec centroïdes initiaux [[2], [6]]**\n",
    "- **Itérations nécessaires :** 4\n",
    "- **Clusters finaux :**\n",
    "  - Cluster 1 : \\([[2], [4], [6], [12]]\\)\n",
    "  - Cluster 2 : \\([[24], [30]]\\)\n",
    "- **Centroïdes finaux :**\n",
    "  - Centroïde 1 : \\([6.0]\\)\n",
    "  - Centroïde 2 : \\([27.0]\\)\n",
    "- **Erreur quadratique (SSE) finale :** 74.0\n",
    "- **Analyse :**\n",
    "  - Cette configuration initialise les centroïdes proches des points les plus petits (\\(2\\) et \\(6\\)).\n",
    "  - La convergence est atteinte en 4 itérations, ce qui est légèrement plus long car les centroïdes initiaux sont éloignés des clusters finaux.\n",
    "\n",
    "---\n",
    "\n",
    "### **2. Test avec centroïdes initiaux [[12], [24]]**\n",
    "- **Itérations nécessaires :** 2\n",
    "- **Clusters finaux :**\n",
    "  - Cluster 1 : \\([[2], [4], [6], [12]]\\)\n",
    "  - Cluster 2 : \\([[24], [30]]\\)\n",
    "- **Centroïdes finaux :**\n",
    "  - Centroïde 1 : \\([6.0]\\)\n",
    "  - Centroïde 2 : \\([27.0]\\)\n",
    "- **Erreur quadratique (SSE) finale :** 74.0\n",
    "- **Analyse :**\n",
    "  - Cette configuration initialise les centroïdes proches des clusters finaux, ce qui permet une convergence plus rapide (en 2 itérations).\n",
    "\n",
    "---\n",
    "\n",
    "### **Comparaison et conclusion :**\n",
    "- Dans les deux cas, l'algorithme k-means converge vers les mêmes clusters finaux et centroïdes.\n",
    "- Cependant, la configuration avec centroïdes initiaux \\([[12], [24]]\\) est **meilleure** car elle atteint la convergence plus rapidement (moins d'itérations).\n",
    "- Cette observation illustre l'importance d'une initialisation judicieuse des centroïdes dans k-means.\n",
    "\n"
   ]
  },
  {
   "cell_type": "markdown",
   "id": "40e37177",
   "metadata": {},
   "source": [
    "## Question 2 : Visualisation des résultats"
   ]
  },
  {
   "cell_type": "markdown",
   "id": "d0ec5d1f",
   "metadata": {},
   "source": [
    "Pour cette question, nous afficherons les résultats du clustering en utilisant des graphiques simples. Nous pouvons également observer la convergence des centroïdes."
   ]
  },
  {
   "cell_type": "code",
   "execution_count": 8,
   "id": "0ff8d3ae",
   "metadata": {},
   "outputs": [
    {
     "name": "stdout",
     "output_type": "stream",
     "text": [
      "Iteration 1\n",
      "Centroid 1 Points [[1, 2]]\n",
      "Centroid 2 Points [[2, 3], [20, 22], [31, 30]]\n",
      "Centroid 3 Points [[58, 60]]\n",
      "Erreur quadratique (SSE) : 2255.0\n",
      "Iteration 2\n",
      "Centroid 1 Points [[1, 2], [2, 3]]\n",
      "Centroid 2 Points [[20, 22], [31, 30]]\n",
      "Centroid 3 Points [[58, 60]]\n",
      "Erreur quadratique (SSE) : 334.77777777777777\n",
      "Iteration 3\n",
      "Centroid 1 Points [[1, 2], [2, 3]]\n",
      "Centroid 2 Points [[20, 22], [31, 30]]\n",
      "Centroid 3 Points [[58, 60]]\n",
      "Erreur quadratique (SSE) : 93.50000000000001\n",
      "Fin du clustering, aucune modification des centroïdes.\n",
      "Clustering terminé.\n"
     ]
    },
    {
     "data": {
      "image/png": "[encoded data removed]",
      "text/plain": [
       "<Figure size 640x480 with 1 Axes>"
      ]
     },
     "metadata": {},
     "output_type": "display_data"
    }
   ],
   "source": [
    "import matplotlib.pyplot as plt\n",
    "\n",
    "# Points pour la visualisation\n",
    "data_2d = [[1, 2], [2, 3], [58, 60], [20, 22], [31, 30]]\n",
    "initial_centroids_2d = [[1, 2], [2, 3], [58, 60]]\n",
    "\n",
    "# Recalcul des clusters pour ces données\n",
    "final_centroids_2d, final_clusters_2d = k_means(data_2d, 3, initial_centroids_2d)\n",
    "\n",
    "# Visualisation\n",
    "colors = ['r', 'g', 'b']\n",
    "for i, cluster in enumerate(final_clusters_2d):\n",
    "    x_coords, y_coords = zip(*cluster)\n",
    "    plt.scatter(x_coords, y_coords, c=colors[i], label=f\"Cluster {i+1}\")\n",
    "\n",
    "# Affichage des centroïdes finaux\n",
    "for centroid in final_centroids_2d:\n",
    "    plt.scatter(*centroid, c='black', marker='x', s=100, label=\"Centroïde\")\n",
    "\n",
    "plt.title(\"Visualisation des clusters (k-means)\")\n",
    "plt.xlabel(\"Dimension 1\")\n",
    "plt.ylabel(\"Dimension 2\")\n",
    "plt.legend()\n",
    "plt.show()"
   ]
  },
  {
   "cell_type": "markdown",
   "id": "2fd5cadc",
   "metadata": {},
   "source": [
    "## Question 3 et 4 : Utilisation de `numpy` et `scikit-learn`"
   ]
  },
  {
   "cell_type": "markdown",
   "id": "14cb905a",
   "metadata": {},
   "source": [
    "Nous allons maintenant utiliser `numpy` et `scikit-learn` pour optimiser l'implémentation et valider nos résultats précédents."
   ]
  },
  {
   "cell_type": "code",
   "execution_count": 3,
   "id": "300d5610",
   "metadata": {},
   "outputs": [
    {
     "name": "stdout",
     "output_type": "stream",
     "text": [
      "Centroïdes avec scikit-learn : [[ 1.5]\n",
      " [25.5]\n",
      " [58. ]]\n",
      "Labels des points : [0 0 2 1 1]\n"
     ]
    }
   ],
   "source": [
    "import numpy as np\n",
    "from sklearn.cluster import KMeans\n",
    "\n",
    "# Conversion des données en array numpy\n",
    "data_np = np.array([[1], [2], [58], [20], [31]])\n",
    "\n",
    "# Implémentation de k-means avec scikit-learn\n",
    "kmeans = KMeans(n_clusters=3, init=np.array([[1], [2], [58]]), n_init=1)\n",
    "kmeans.fit(data_np)\n",
    "\n",
    "print(\"Centroïdes avec scikit-learn :\", kmeans.cluster_centers_)\n",
    "print(\"Labels des points :\", kmeans.labels_)"
   ]
  },
  {
   "cell_type": "markdown",
   "id": "9628a534",
   "metadata": {},
   "source": [
    "Les résultats obtenus avec `scikit-learn` confirment la validité de notre implémentation manuelle. Cela montre que les clusters formés et les centroïdes calculés sont cohérents avec les données."
   ]
  }
 ],
 "metadata": {
  "kernelspec": {
   "display_name": "Python 3",
   "language": "python",
   "name": "python3"
  },
  "language_info": {
   "codemirror_mode": {
    "name": "ipython",
    "version": 3
   },
   "file_extension": ".py",
   "mimetype": "text/x-python",
   "name": "python",
   "nbconvert_exporter": "python",
   "pygments_lexer": "ipython3",
   "version": "3.12.1"
  }
 },
 "nbformat": 4,
 "nbformat_minor": 5
}
